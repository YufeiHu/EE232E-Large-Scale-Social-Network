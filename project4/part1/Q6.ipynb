{
 "cells": [
  {
   "cell_type": "markdown",
   "metadata": {},
   "source": [
    "# Part 1: Actor/Actress network"
   ]
  },
  {
   "cell_type": "code",
   "execution_count": 2,
   "metadata": {},
   "outputs": [],
   "source": [
    "library(\"igraph\")"
   ]
  },
  {
   "cell_type": "markdown",
   "metadata": {},
   "source": [
    "### Question 6:"
   ]
  },
  {
   "cell_type": "code",
   "execution_count": null,
   "metadata": {},
   "outputs": [],
   "source": [
    "g <- read.graph(\"movie_edge_weight.txt\", format=\"ncol\", directed=TRUE)\n",
    "\n",
    "par(mfrow=c(2, 1))\n",
    "\n",
    "title <- sprintf(\"In-degree distribution of Movie Network Graph\")\n",
    "deg_in <- degree(g, mode = c(\"in\"))\n",
    "hist(deg_in, main=title, xlab=\"In-degree\")\n",
    "\n",
    "title <- sprintf(\"Out-degree distribution of Movie Network Graph\")\n",
    "deg_out <- degree(g, mode = c(\"out\"))\n",
    "hist(deg_out, main=title, xlab=\"Out-degree\")"
   ]
  },
  {
   "cell_type": "code",
   "execution_count": null,
   "metadata": {
    "collapsed": true
   },
   "outputs": [],
   "source": []
  }
 ],
 "metadata": {
  "kernelspec": {
   "display_name": "R",
   "language": "R",
   "name": "ir"
  },
  "language_info": {
   "codemirror_mode": "r",
   "file_extension": ".r",
   "mimetype": "text/x-r-source",
   "name": "R",
   "pygments_lexer": "r",
   "version": "3.4.2"
  }
 },
 "nbformat": 4,
 "nbformat_minor": 2
}
