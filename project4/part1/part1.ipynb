{
 "cells": [
  {
   "cell_type": "markdown",
   "metadata": {},
   "source": [
    "# Part 1: Actor/Actress network"
   ]
  },
  {
   "cell_type": "code",
   "execution_count": 2,
   "metadata": {},
   "outputs": [],
   "source": [
    "library(\"igraph\")\n",
    "library(\"hash\")\n",
    "library(\"e1071\")"
   ]
  },
  {
   "cell_type": "markdown",
   "metadata": {},
   "source": [
    "### Question 2:"
   ]
  },
  {
   "cell_type": "code",
   "execution_count": 3,
   "metadata": {
    "collapsed": true
   },
   "outputs": [],
   "source": [
    "g <- read.graph(\"edge_weight.txt\", format=\"ncol\", directed=TRUE)\n",
    "file_actor_id <- file(\"actor_id.txt\", open=\"r\")\n",
    "actor_id <- readLines(file_actor_id, encoding=\"latin1\")\n",
    "close(file_actor_id)"
   ]
  },
  {
   "cell_type": "code",
   "execution_count": 4,
   "metadata": {},
   "outputs": [
    {
     "data": {
      "image/png": "[encoded data removed]",
      "text/plain": [
       "Plot with title \"In-degree distribution of actor/actress network\""
      ]
     },
     "metadata": {},
     "output_type": "display_data"
    }
   ],
   "source": [
    "title <- sprintf(\"In-degree distribution of actor/actress network\")\n",
    "deg_in <- degree(g, mode = c(\"in\"))\n",
    "hist(deg_in, main=title, xlab=\"In-degree\", breaks=50)"
   ]
  },
  {
   "cell_type": "markdown",
   "metadata": {},
   "source": [
    "### Question 4:"
   ]
  },
  {
   "cell_type": "code",
   "execution_count": 7,
   "metadata": {},
   "outputs": [],
   "source": [
    "rank_score <- page.rank(g, algo=c(\"prpack\", \"arpack\", \"power\"), directed=TRUE, damping=0.85, weights=NULL)\n",
    "high_score <- sort(rank_score$vector, decreasing=TRUE)"
   ]
  },
  {
   "cell_type": "code",
   "execution_count": 14,
   "metadata": {
    "collapsed": true
   },
   "outputs": [],
   "source": [
    "file_merge <- file(\"actor_movies_merged.txt\", open=\"r\")\n",
    "actor_movies_merged <- readLines(file_merge, encoding=\"latin1\")\n",
    "close(file_merge)"
   ]
  },
  {
   "cell_type": "code",
   "execution_count": 32,
   "metadata": {},
   "outputs": [
    {
     "name": "stdout",
     "output_type": "stream",
     "text": [
      "Flowers, Bess (ID: 11136) has a pagerank score of 0.000235, in-degree of 7537, and 828 movies\n",
      "Tatasciore, Fred (ID: 104481) has a pagerank score of 0.000199, in-degree of 3954, and 353 movies\n",
      "Harris, Sam (II) (ID: 66177) has a pagerank score of 0.000197, in-degree of 6960, and 600 movies\n",
      "Blum, Steve (IX) (ID: 45073) has a pagerank score of 0.000195, in-degree of 3316, and 373 movies\n",
      "Miller, Harold (I) (ID: 83949) has a pagerank score of 0.000173, in-degree of 6587, and 561 movies\n",
      "Jeremy, Ron (ID: 70664) has a pagerank score of 0.000164, in-degree of 3177, and 637 movies\n",
      "Phelps, Lee (I) (ID: 91318) has a pagerank score of 0.000158, in-degree of 5563, and 647 movies\n",
      "Lowenthal, Yuri (ID: 78885) has a pagerank score of 0.000157, in-degree of 2662, and 317 movies\n",
      "Downes, Robin Atkin (ID: 56646) has a pagerank score of 0.000152, in-degree of 2953, and 267 movies\n",
      "O'Connor, Frank (I) (ID: 88185) has a pagerank score of 0.000147, in-degree of 5502, and 623 movies\n"
     ]
    }
   ],
   "source": [
    "for(i in 1:10){\n",
    "    high_id <- as.numeric(names(high_score[i]))\n",
    "    high_id <- actor_id[high_id + 1]\n",
    "    line <- strsplit(high_id, \"\\t\\t\")\n",
    "    \n",
    "    line_movie <- actor_movies_merged[as.numeric(line[[1]][2]) + 1]\n",
    "    line_movie <- strsplit(line_movie, \"\\t\\t\")\n",
    "    num_movie <- length(line_movie[[1]]) - 1\n",
    "    \n",
    "    deg_in <- degree(g, line[[1]][2], mode=c(\"in\"))\n",
    "    \n",
    "    info <- sprintf(\"%s (ID: %s) has a pagerank score of %f, in-degree of %d, and %d movies\\n\", line[[1]][1], line[[1]][2], high_score[i], deg_in, num_movie)\n",
    "    cat(info)\n",
    "}"
   ]
  },
  {
   "cell_type": "markdown",
   "metadata": {},
   "source": [
    "### Question 5:"
   ]
  },
  {
   "cell_type": "code",
   "execution_count": 44,
   "metadata": {},
   "outputs": [
    {
     "name": "stdout",
     "output_type": "stream",
     "text": [
      "Depp, Johnny (ID: 55412) has a pagerank score of 0.000054, in-degree of 2144, and 98 movies\n",
      "Hanks, Tom (ID: 65792) has a pagerank score of 0.000051, in-degree of 2064, and 79 movies\n",
      "Pitt, Brad (ID: 91782) has a pagerank score of 0.000043, in-degree of 1739, and 71 movies\n",
      "Johnson, Dwayne (I) (ID: 70923) has a pagerank score of 0.000042, in-degree of 1357, and 78 movies\n",
      "Clooney, George (ID: 51346) has a pagerank score of 0.000040, in-degree of 1573, and 67 movies\n",
      "Cruise, Tom (ID: 53037) has a pagerank score of 0.000040, in-degree of 1651, and 63 movies\n",
      "Streep, Meryl (ID: 33234) has a pagerank score of 0.000040, in-degree of 1594, and 97 movies\n",
      "Smith, Will (I) (ID: 101308) has a pagerank score of 0.000032, in-degree of 1319, and 49 movies\n",
      "DiCaprio, Leonardo (ID: 55819) has a pagerank score of 0.000032, in-degree of 1301, and 49 movies\n",
      "Watson, Emma (II) (ID: 36700) has a pagerank score of 0.000017, in-degree of 453, and 25 movies\n"
     ]
    }
   ],
   "source": [
    "actorID_target <- c(53037, 36700, 51346, 65792, 70923, 55412, 101308, 33234, 55819, 91782)\n",
    "pagerank_score_target <- c()\n",
    "\n",
    "for(i in 1:length(high_score)){\n",
    "    id_cur <- as.numeric(names(high_score[i]))\n",
    "    if(!is.na(match(id_cur, actorID_target))){\n",
    "        high_id <- actor_id[id_cur + 1]\n",
    "        line <- strsplit(high_id, \"\\t\\t\")\n",
    "        \n",
    "        line_movie <- actor_movies_merged[as.numeric(line[[1]][2]) + 1]\n",
    "        line_movie <- strsplit(line_movie, \"\\t\\t\")\n",
    "        num_movie <- length(line_movie[[1]]) - 1\n",
    "\n",
    "        deg_in <- degree(g, line[[1]][2], mode=c(\"in\"))\n",
    "\n",
    "        info <- sprintf(\"%s (ID: %s) has a pagerank score of %f, in-degree of %d, and %d movies\\n\", line[[1]][1], line[[1]][2], high_score[i], deg_in, num_movie)\n",
    "        cat(info)\n",
    "    }\n",
    "}"
   ]
  },
  {
   "cell_type": "code",
   "execution_count": null,
   "metadata": {
    "collapsed": true
   },
   "outputs": [],
   "source": []
  }
 ],
 "metadata": {
  "kernelspec": {
   "display_name": "R",
   "language": "R",
   "name": "ir"
  },
  "language_info": {
   "codemirror_mode": "r",
   "file_extension": ".r",
   "mimetype": "text/x-r-source",
   "name": "R",
   "pygments_lexer": "r",
   "version": "3.4.2"
  }
 },
 "nbformat": 4,
 "nbformat_minor": 2
}
