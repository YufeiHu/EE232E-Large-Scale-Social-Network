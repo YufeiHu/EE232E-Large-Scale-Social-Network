{
 "cells": [
  {
   "cell_type": "markdown",
   "metadata": {},
   "source": [
    "# Path"
   ]
  },
  {
   "cell_type": "code",
   "execution_count": null,
   "metadata": {},
   "outputs": [],
   "source": [
    "library('igraph')\n",
    "g <- read.graph('./data/movie_edge_weight.txt', format='ncol', directed=FALSE)"
   ]
  },
  {
   "cell_type": "markdown",
   "metadata": {},
   "source": [
    "# Path"
   ]
  },
  {
   "cell_type": "code",
   "execution_count": null,
   "metadata": {},
   "outputs": [],
   "source": [
    "#genreate genre\n",
    "movie_genre_file <- file(\"./data/movieID_genre.txt\", open=\"r\")\n",
    "line <- readLines(movie_genre_file, 1, encoding=\"latin1\")\n",
    "genre_list <- rep(\"\", vcount(g))\n",
    "while(length(line) != 0) {\n",
    "    line <- strsplit(line,\"\\t\\t\")\n",
    "    genre <- line[[1]][3]\n",
    "    movie_id <- line[[1]][2]\n",
    "    node_id <- V(g)[V(g)$name == movie_id]\n",
    "    genre_list[node_id] <- genre\n",
    "    line <- readLines(movie_genre_file, 1, encoding=\"latin1\")\n",
    "} \n",
    "close(movie_genre_file)"
   ]
  },
  {
   "cell_type": "code",
   "execution_count": null,
   "metadata": {},
   "outputs": [],
   "source": [
    "# assign the genre to the nodes in network\n",
    "V(g)$genre <- genre_list"
   ]
  },
  {
   "cell_type": "code",
   "execution_count": null,
   "metadata": {},
   "outputs": [],
   "source": [
    "# redundant step for this case\n",
    "vertices <- V(g)[genre_list != \"\"]\n",
    "g.genre <- induced_subgraph(g, vertices, impl = \"copy_and_delete\")\n",
    "\n",
    "# Fast Greedy community detection\n",
    "g.genre.fgc <- cluster_fast_greedy(g.genre)"
   ]
  },
  {
   "cell_type": "markdown",
   "metadata": {},
   "source": [
    "### Question 7"
   ]
  },
  {
   "cell_type": "markdown",
   "metadata": {},
   "source": [
    "### print_community_genre_info"
   ]
  },
  {
   "cell_type": "code",
   "execution_count": null,
   "metadata": {},
   "outputs": [],
   "source": [
    "# generate n random integers\n",
    "n <- 10\n",
    "communities <- sample(1:length(g.genre.fgc), n, replace = FALSE)"
   ]
  },
  {
   "cell_type": "markdown",
   "metadata": {},
   "source": [
    "### print_community_genre_info"
   ]
  },
  {
   "cell_type": "code",
   "execution_count": null,
   "metadata": {},
   "outputs": [],
   "source": [
    "print_community_genre_info <- function(community_picked, community_set) {\n",
    "    for (i in community_picked) {\n",
    "        genre_list <- V(g.genre)[community_set[[i]]]$genre\n",
    "        genre_list <- genre_list[genre_list != \"None\"]\n",
    "        genre.table <- table(genre_list)\n",
    "        genre.freq <- prop.table(genre.table)\n",
    "    \n",
    "        cat(\"======= Community\", i, \"=======\\n\")\n",
    "        cat(\"============================\\n\")\n",
    "    \n",
    "        Genre <- names(genre.table)\n",
    "        Count <- as.vector(genre.table)\n",
    "        Freq <- as.vector(genre.freq)\n",
    "        df <- data.frame(Genre, Count, Freq)\n",
    "        print(df)\n",
    "        cat(\"\\n\\n\")\n",
    "    }\n",
    "}"
   ]
  },
  {
   "cell_type": "code",
   "execution_count": null,
   "metadata": {},
   "outputs": [],
   "source": [
    "print_community_genre_info(communities, g.genre.fgc)"
   ]
  },
  {
   "cell_type": "markdown",
   "metadata": {},
   "source": [
    "### plot_community_genre_info"
   ]
  },
  {
   "cell_type": "code",
   "execution_count": null,
   "metadata": {},
   "outputs": [],
   "source": [
    "plot_community_genre_info <- function(community_picked, community_Set, save_path) {\n",
    "\n",
    "    for (i in community_picked) {\n",
    "        genre_list <- V(g.genre)[community_Set[[i]]]$genre\n",
    "        genre_list <- genre_list[genre_list != \"None\"]\n",
    "        genre.table <- table(genre_list)\n",
    "        genre.freq <- prop.table(genre.table)\n",
    "    \n",
    "        Genre <- names(genre.table)\n",
    "        Count <- as.vector(genre.table)\n",
    "        Freq <- as.vector(genre.freq)\n",
    "    \n",
    "        title = sprintf(\"Genre Distribution in Community %d\", i)\n",
    "        f_name <- sprintf(\"/D_Com_%d.png\", i)\n",
    "        f_name <- paste(save_path, f_name, sep=\"\")\n",
    "        png(filename=f_name)\n",
    "        barplot(Count, main = title, ylab = \"Count\", names.arg = Genre, las=2)\n",
    "        dev.off()\n",
    "    }\n",
    "}"
   ]
  },
  {
   "cell_type": "markdown",
   "metadata": {},
   "source": [
    "# Path"
   ]
  },
  {
   "cell_type": "code",
   "execution_count": null,
   "metadata": {},
   "outputs": [],
   "source": [
    "save_path = \"./plots/Q7\"\n",
    "plot_community_genre_info(communities, g.genre.fgc, save_path)"
   ]
  },
  {
   "cell_type": "markdown",
   "metadata": {},
   "source": [
    "### Question 8(a)"
   ]
  },
  {
   "cell_type": "code",
   "execution_count": null,
   "metadata": {},
   "outputs": [],
   "source": [
    "print_community_genre_info(1:length(g.genre.fgc), g.genre.fgc)"
   ]
  },
  {
   "cell_type": "markdown",
   "metadata": {},
   "source": [
    "# Path"
   ]
  },
  {
   "cell_type": "code",
   "execution_count": null,
   "metadata": {},
   "outputs": [],
   "source": [
    "save_path <- \"./plots/Q8a\"\n",
    "plot_community_genre_info(1:length(g.genre.fgc), g.genre.fgc, save_path)"
   ]
  },
  {
   "cell_type": "markdown",
   "metadata": {},
   "source": [
    "### Question 8(b)"
   ]
  },
  {
   "cell_type": "code",
   "execution_count": null,
   "metadata": {},
   "outputs": [],
   "source": [
    "# genre score\n",
    "genre_score <- function(c, p, q) {\n",
    "    log(c, base = exp(1)) * p / q\n",
    "}"
   ]
  },
  {
   "cell_type": "code",
   "execution_count": null,
   "metadata": {},
   "outputs": [],
   "source": [
    "# calculate the the fraction of genre i movies in the entire data set\n",
    "genre_all <- V(g.genre)$genre\n",
    "genre_all <- genre_all[genre_all != \"None\"]\n",
    "genre.table.all <- table(genre_all)\n",
    "genre.freq.all <- prop.table(genre.table.all)"
   ]
  },
  {
   "cell_type": "markdown",
   "metadata": {},
   "source": [
    "### print_community_genre_score"
   ]
  },
  {
   "cell_type": "code",
   "execution_count": null,
   "metadata": {},
   "outputs": [],
   "source": [
    "print_community_genre_score <- function(community_picked, community_set) {\n",
    "    for (i in community_picked) {\n",
    "        genre_list <- V(g.genre)[community_set[[i]]]$genre\n",
    "        genre_list <- genre_list[genre_list != \"None\"]\n",
    "        genre.table <- table(genre_list)\n",
    "        genre.freq <- prop.table(genre.table)\n",
    "    \n",
    "        Genre <- names(genre.table)\n",
    "        Count <- as.vector(genre.table)\n",
    "        Freq <- as.vector(genre.freq)\n",
    "        index = names(genre.table.all) %in% Genre\n",
    "        q <- as.vector(genre.freq.all)[index]\n",
    "        score <- genre_score(Count, Freq, q)\n",
    "    \n",
    "        cat(\"======= Community\", i, \"=======\\n\")\n",
    "        cat(\"============================\\n\")\n",
    "        df <- data.frame(Genre, score)\n",
    "        print(df)\n",
    "        cat(\"\\n\\n\")\n",
    "    }\n",
    "}"
   ]
  },
  {
   "cell_type": "code",
   "execution_count": null,
   "metadata": {},
   "outputs": [],
   "source": [
    "print_community_genre_score(1:length(g.genre.fgc), g.genre.fgc)"
   ]
  },
  {
   "cell_type": "markdown",
   "metadata": {},
   "source": [
    "### plot_community_genre_score"
   ]
  },
  {
   "cell_type": "code",
   "execution_count": null,
   "metadata": {},
   "outputs": [],
   "source": [
    "plot_community_genre_score <- function(community_picked, community_set, save_path) {\n",
    "    for (i in community_picked) {\n",
    "        genre_list <- V(g.genre)[community_set[[i]]]$genre\n",
    "        genre_list <- genre_list[genre_list != \"None\"]\n",
    "        genre.table <- table(genre_list)\n",
    "        genre.freq <- prop.table(genre.table)\n",
    "    \n",
    "        Genre <- names(genre.table)\n",
    "        Count <- as.vector(genre.table)\n",
    "        Freq <- as.vector(genre.freq)\n",
    "    \n",
    "        index = names(genre.table.all) %in% Genre\n",
    "        q <- as.vector(genre.freq.all)[index]\n",
    "        score <- genre_score(Count, Freq, q)\n",
    "    \n",
    "        title <- sprintf(\"Genre Score in Community %d\", i)\n",
    "        f_name <- sprintf(\"/D_Com_%d_score.png\", i)\n",
    "        f_name <- paste(save_path, f_name, sep=\"\")\n",
    "        png(filename=f_name)\n",
    "        barplot(score, main = title, ylab = \"Score\", names.arg = Genre, las=2)\n",
    "        dev.off()\n",
    "    }\n",
    "}"
   ]
  },
  {
   "cell_type": "markdown",
   "metadata": {},
   "source": [
    "# Path"
   ]
  },
  {
   "cell_type": "code",
   "execution_count": null,
   "metadata": {},
   "outputs": [],
   "source": [
    "save_path = \"./plots/Q8b\"\n",
    "plot_community_genre_score(1:length(g.genre.fgc), g.genre.fgc, save_path)"
   ]
  },
  {
   "cell_type": "markdown",
   "metadata": {},
   "source": [
    "### Question 8(c)"
   ]
  },
  {
   "cell_type": "markdown",
   "metadata": {},
   "source": [
    "### creat_edgelist"
   ]
  },
  {
   "cell_type": "code",
   "execution_count": null,
   "metadata": {},
   "outputs": [],
   "source": [
    "creat_edgelist <- function(file_path, movie_id_list) {\n",
    "    # build the edgelist for bipartite graph\n",
    "    movie_actors_file <- file(file_path, open=\"r\")\n",
    "    line <- readLines(movie_actors_file, 1, encoding=\"latin1\")\n",
    "\n",
    "    # index of movie_id_list\n",
    "    idx <- 1\n",
    "\n",
    "    # edgelist\n",
    "    movie_id_edge <- c()\n",
    "    actor_id_edge <- c()\n",
    "\n",
    "    while(length(line) != 0) {    \n",
    "        line <- strsplit(line,\"\\t\\t\")\n",
    "        movie_id <- line[[1]][2]\n",
    "    \n",
    "        if (movie_id == movie_id_list[idx]) {\n",
    "            actor_id <- line[[1]][3:length(line[[1]])]\n",
    "            movie_id_edge <- c(movie_id_edge, rep(paste(\"m_id\",movie_id),\n",
    "                                              length(actor_id)))\n",
    "            actor_id_edge <- c(actor_id_edge, actor_id)\n",
    "            idx <- idx + 1\n",
    "        }\n",
    "\n",
    "        if (idx > length(movie_id_list)) {\n",
    "            break\n",
    "        }\n",
    "        line <- readLines(movie_actors_file, 1, encoding=\"latin1\")\n",
    "    } \n",
    "    close(movie_actors_file)\n",
    "    list(actor_id_edge, movie_id_edge)\n",
    "}"
   ]
  },
  {
   "cell_type": "markdown",
   "metadata": {},
   "source": [
    "### build_bipartite_graph"
   ]
  },
  {
   "cell_type": "code",
   "execution_count": null,
   "metadata": {},
   "outputs": [],
   "source": [
    "build_bipartite_graph <- function(actor_id_edge, movie_id_edge) {\n",
    "    # build the bipartite graph\n",
    "    edge_df <- data.frame(actor_id_edge, movie_id_edge)\n",
    "    g.bi <- graph_from_data_frame(edge_df)\n",
    "    V(g.bi)$type <- V(g.bi)$name %in% actor_id_edge\n",
    "    g.bi\n",
    "}"
   ]
  },
  {
   "cell_type": "markdown",
   "metadata": {},
   "source": [
    "### plot_bipartite_graph"
   ]
  },
  {
   "cell_type": "code",
   "execution_count": null,
   "metadata": {},
   "outputs": [],
   "source": [
    "plot_bipartite_graph <- function(bipartite_graph, vsize=6, ncom) {\n",
    "    l <- layout_as_bipartite(bipartite_graph)\n",
    "    title <- sprintf(\"Actors - Movies(Community %s)\", ncom)\n",
    "    plot(bipartite_graph, layout=l[, c(2,1)], vertex.size= vsize, asp=0, \n",
    "         vertex.label=NA, main=title)    \n",
    "}"
   ]
  },
  {
   "cell_type": "markdown",
   "metadata": {},
   "source": [
    "### get_actor_movie_df\n",
    "actor id - movie number"
   ]
  },
  {
   "cell_type": "code",
   "execution_count": null,
   "metadata": {},
   "outputs": [],
   "source": [
    "get_actor_movie_df <- function(bipartite_graph, actor_id_edge) {\n",
    "    # act n movies\n",
    "    Movie_number <- as.vector(degree(bipartite_graph, mode='out'))\n",
    "    Movie_number <- Movie_number[Movie_number>0]\n",
    "\n",
    "    # Actor id\n",
    "    Actor_id <- as.numeric(names(V(bipartite_graph)[1:length(names(table(actor_id_edge)))]))\n",
    "    actor_movie_df <- data.frame(Actor_id, Movie_number)\n",
    "    actor_movie_df\n",
    "}"
   ]
  },
  {
   "cell_type": "markdown",
   "metadata": {},
   "source": [
    "### get_movie_actor_df\n",
    "movie id - actor number"
   ]
  },
  {
   "cell_type": "code",
   "execution_count": null,
   "metadata": {},
   "outputs": [],
   "source": [
    "get_movie_actor_df <- function(bipartite_graph, actor_id_edge) {\n",
    "    # number of actors\n",
    "    Actor_number <- as.vector(degree(bipartite_graph, mode='in'))\n",
    "    Actor_number <- Actor_number[Actor_number>0]\n",
    "\n",
    "    # movie id\n",
    "    Movie_id <- names(V(bipartite_graph)[(length(names(table(actor_id_edge)))+1):vcount(bipartite_graph)])\n",
    "    Movie_id <- get_movie_id(Movie_id)\n",
    "    movie_actor_df <- data.frame(Movie_id, Actor_number)\n",
    "    movie_actor_df    \n",
    "}"
   ]
  },
  {
   "cell_type": "markdown",
   "metadata": {},
   "source": [
    "### get_top_three"
   ]
  },
  {
   "cell_type": "code",
   "execution_count": null,
   "metadata": {},
   "outputs": [],
   "source": [
    "get_top_three <- function(actor_movie_df) {\n",
    "    # the most three important actors id\n",
    "    top_three <- actor_movie_df[rev(order(actor_movie_df$Movie_number)),]$Actor[1:3]\n",
    "    top_three <- sort(top_three)\n",
    "    top_three <- as.character(top_three)\n",
    "    top_three\n",
    "}\n"
   ]
  },
  {
   "cell_type": "markdown",
   "metadata": {},
   "source": [
    "### get_actor_name"
   ]
  },
  {
   "cell_type": "code",
   "execution_count": null,
   "metadata": {},
   "outputs": [],
   "source": [
    "get_actor_name <- function(file_path, top_three) {\n",
    "    actors_file <- file(file_path, open=\"r\")\n",
    "    line <- readLines(actors_file, 1, encoding=\"latin1\")\n",
    "\n",
    "    # index of movie_id_list\n",
    "    idx <- 1\n",
    "\n",
    "    # actor name\n",
    "    actor_name <- c()\n",
    "\n",
    "    while(length(line) != 0) {    \n",
    "        line <- strsplit(line,\"\\t\\t\")\n",
    "        actor_id <- line[[1]][2]\n",
    "    \n",
    "        if (actor_id == top_three[idx]) {\n",
    "            actor_name <- c(actor_name, line[[1]][1])\n",
    "            idx <- idx + 1\n",
    "        }\n",
    "\n",
    "        if (idx > length(top_three)) {\n",
    "            break\n",
    "        }\n",
    "        line <- readLines(actors_file, 1, encoding=\"latin1\")\n",
    "    } \n",
    "    close(actors_file)\n",
    "    actor_name\n",
    "}\n"
   ]
  },
  {
   "cell_type": "markdown",
   "metadata": {},
   "source": [
    "### get_movie_id"
   ]
  },
  {
   "cell_type": "code",
   "execution_count": null,
   "metadata": {},
   "outputs": [],
   "source": [
    "get_movie_id <- function(movies) {\n",
    "    movie_id <- c()\n",
    "    for (i in 1:length(movies)) {\n",
    "        id <- strsplit(movies[i], ' ')[[1]][2]\n",
    "        movie_id <- c(movie_id, id)\n",
    "    }\n",
    "    movie_id\n",
    "}"
   ]
  },
  {
   "cell_type": "markdown",
   "metadata": {},
   "source": [
    "### get_movie_genre"
   ]
  },
  {
   "cell_type": "code",
   "execution_count": null,
   "metadata": {},
   "outputs": [],
   "source": [
    "get_movie_genre <- function(genre_graph, movie_id) {\n",
    "    genre <- V(genre_graph)[V(genre_graph)$name %in% movie_id]$genre\n",
    "    genre\n",
    "}"
   ]
  },
  {
   "cell_type": "markdown",
   "metadata": {},
   "source": [
    "### get_movie_name"
   ]
  },
  {
   "cell_type": "code",
   "execution_count": null,
   "metadata": {},
   "outputs": [],
   "source": [
    "get_movie_name <- function(file_path, movie_id) {\n",
    "    movie_genre_file <- file(file_path, open=\"r\")\n",
    "    line <- readLines(movie_genre_file, 1, encoding=\"latin1\")\n",
    "    movie_name <- c()\n",
    "    idx <- 1\n",
    "    while(length(line) != 0) {\n",
    "        line <- strsplit(line,\"\\t\\t\")\n",
    "        id <- line[[1]][2]\n",
    "        if (movie_id[idx] == id) {\n",
    "            movie_name <- c(movie_name, line[[1]][1])\n",
    "            idx = idx + 1\n",
    "        }\n",
    "        if (idx > length(movie_id)) {\n",
    "            break\n",
    "        }\n",
    "        line <- readLines(movie_genre_file, 1, encoding=\"latin1\")\n",
    "    } \n",
    "    close(movie_genre_file)\n",
    "    movie_name\n",
    "}"
   ]
  },
  {
   "cell_type": "markdown",
   "metadata": {},
   "source": [
    "### print_actor_info"
   ]
  },
  {
   "cell_type": "code",
   "execution_count": null,
   "metadata": {},
   "outputs": [],
   "source": [
    "print_actor_info <- function(genre_graph, bipartite_graph, top_three, actor_name,\n",
    "                             file_path) {\n",
    "    for (i in 1:length(top_three)) {\n",
    "        movies <- neighbors(bipartite_graph, top_three[i], mode='out')$name\n",
    "        Movie_ids <- sort(get_movie_id(movies))\n",
    "        \n",
    "        Names <- get_movie_name(file_path, Movie_ids)\n",
    "        \n",
    "        Genres <- get_movie_genre(genre_graph, Movie_ids)\n",
    "        \n",
    "        info.df <- data.frame(Movie_ids, Names, Genres)\n",
    "        \n",
    "        \n",
    "        cat(actor_name[i], \":\\n\")\n",
    "        cat(\"===================================\\n\")\n",
    "        print(info.df)\n",
    "        cat(\"\\n\\n\")\n",
    "    }\n",
    "}\n",
    "\n"
   ]
  },
  {
   "cell_type": "markdown",
   "metadata": {},
   "source": [
    "### Start below"
   ]
  },
  {
   "cell_type": "code",
   "execution_count": null,
   "metadata": {},
   "outputs": [],
   "source": [
    "small_communities <- g.genre.fgc[sizes(g.genre.fgc) >= 10 & sizes(g.genre.fgc) <= 20]\n",
    "\n",
    "# plot bipartite graph\n",
    "file_path <- \"./data/movie_actors.txt\"\n",
    "\n",
    "for (i in 1:length(small_communities)) {\n",
    "    movie_id_list <- sort(as.numeric(V(g.genre)[small_communities[[i]]]$name))\n",
    "    \n",
    "    edgelist <- creat_edgelist(file_path, movie_id_list)\n",
    "    actor_id_edge <- edgelist[[1]]\n",
    "    movie_id_edge <- edgelist[[2]]\n",
    "    \n",
    "    g.bi <- build_bipartite_graph(actor_id_edge, movie_id_edge)\n",
    "    plot_bipartite_graph(g.bi, ncom=names(small_communities)[i])\n",
    "}\n"
   ]
  },
  {
   "cell_type": "code",
   "execution_count": null,
   "metadata": {},
   "outputs": [],
   "source": [
    "# genrate information about graph and top three actors\n",
    "actor_id_path = \"./data/actor_id.txt\" \n",
    "movie_genre_path <- \"./data/movieID_genre.txt\"\n",
    "\n",
    "for (i in 1:length(small_communities)) {\n",
    "i = 1\n",
    "    # find all movies in the current community\n",
    "    movie_id_list <- sort(as.numeric(V(g.genre)[small_communities[[i]]]$name))\n",
    "    \n",
    "    edgelist <- creat_edgelist(file_path, movie_id_list)\n",
    "    actor_id_edge <- edgelist[[1]]\n",
    "    movie_id_edge <- edgelist[[2]]\n",
    "    \n",
    "    g.bi <- build_bipartite_graph(actor_id_edge, movie_id_edge)\n",
    "    \n",
    "    # get actor - movie number data frame\n",
    "    actor_movie_df <- get_actor_movie_df(g.bi, actor_id_edge)\n",
    "    \n",
    "    # get actor name - id - movie data frame\n",
    "    actor_movie_df <- actor_movie_df[order(actor_movie_df$Actor_id),]\n",
    "    actor_id <- actor_movie_df$Actor_id\n",
    "    Actor_name <- get_actor_name(actor_id_path, actor_id)\n",
    "    name_id_movie_df <- data.frame(Actor_name, actor_movie_df)\n",
    "\n",
    "    # get movie - actor number data frame\n",
    "    movie_actor_df <- get_movie_actor_df(g.bi, actor_id_edge)\n",
    "    \n",
    "    # get movie name - id - actor data frame\n",
    "    movie_actor_df <- movie_actor_df[order(movie_actor_df$Movie_id),]\n",
    "    movie_id <- movie_actor_df$Movie_id\n",
    "    Movie_name <- get_movie_name(movie_genre_path, movie_id)\n",
    "    name_id_actor_df <- data.frame(Movie_name, movie_actor_df)\n",
    "    \n",
    "    cat(\"************************** Community\",\n",
    "        names(small_communities)[i], \"**************************\\n\")\n",
    "    cat(\"******************************************************************\\n\")\n",
    "    print(name_id_movie_df)\n",
    "    cat(\"\\n\")\n",
    "    print(name_id_actor_df)\n",
    "    cat(\"\\n\")\n",
    "\n",
    "    # get three most important actor id and name\n",
    "    top_three <- get_top_three(actor_movie_df)\n",
    "    actor_name <- get_actor_name(actor_id_path, top_three)\n",
    "    \n",
    "    # print three most important actor information\n",
    "    # movie id, movie name, genre\n",
    "    print_actor_info(g.genre, g.bi, top_three, actor_name, movie_genre_path)\n",
    "    cat(\"\\n\\n\")\n",
    "}"
   ]
  },
  {
   "cell_type": "markdown",
   "metadata": {},
   "source": [
    "# Path"
   ]
  },
  {
   "cell_type": "code",
   "execution_count": null,
   "metadata": {},
   "outputs": [],
   "source": [
    "save_path = \"./plots/Q8c\"\n",
    "plot_community_genre_info(as.numeric(names(small_communities)), g.genre.fgc, save_path)"
   ]
  }
 ],
 "metadata": {
  "kernelspec": {
   "display_name": "R",
   "language": "R",
   "name": "ir"
  },
  "language_info": {
   "codemirror_mode": "r",
   "file_extension": ".r",
   "mimetype": "text/x-r-source",
   "name": "R",
   "pygments_lexer": "r",
   "version": "3.4.4"
  }
 },
 "nbformat": 4,
 "nbformat_minor": 2
}
