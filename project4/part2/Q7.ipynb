{
 "cells": [
  {
   "cell_type": "code",
   "execution_count": 23,
   "metadata": {},
   "outputs": [],
   "source": [
    "library('igraph')"
   ]
  },
  {
   "cell_type": "code",
   "execution_count": 24,
   "metadata": {},
   "outputs": [],
   "source": [
    "g <- read.graph('./data/movie_edge_weight.txt', format='ncol', directed=FALSE)"
   ]
  },
  {
   "cell_type": "code",
   "execution_count": 27,
   "metadata": {},
   "outputs": [],
   "source": [
    "#genreate name\n",
    "movie_actors_file <- file(\"./data/movie_actors.txt\", open=\"r\")\n",
    "line <- readLines(movie_actors_file, 1, encoding=\"latin1\")\n",
    "name_list <- rep(\"\", vcount(g))\n",
    "while(length(line) != 0) {\n",
    "    line <- strsplit(line,\"\\t\\t\")\n",
    "    movie_name <- line[[1]][1]\n",
    "    movie_id <- line[[1]][2]\n",
    "    node_id <- V(g)[V(g)$name == movie_id]\n",
    "    name_list[node_id] <- movie_name\n",
    "    line <- readLines(movie_actors_file, 1, encoding=\"latin1\")\n",
    "} \n",
    "close(movie_actors_file)\n"
   ]
  },
  {
   "cell_type": "code",
   "execution_count": 40,
   "metadata": {},
   "outputs": [],
   "source": [
    "save(name_list, file = \"./data/nameList.RData\")"
   ]
  },
  {
   "cell_type": "code",
   "execution_count": 42,
   "metadata": {},
   "outputs": [],
   "source": [
    "V(g)$movie_name <- name_list"
   ]
  },
  {
   "cell_type": "code",
   "execution_count": 43,
   "metadata": {},
   "outputs": [],
   "source": [
    "write_graph(g, \"./data/movie_name_graph.txt\", format = \"edgelist\")"
   ]
  },
  {
   "cell_type": "code",
   "execution_count": null,
   "metadata": {},
   "outputs": [],
   "source": [
    "#genreate genre\n",
    "movie_genre_file <- file(\"./data/movie_genre.txt\", open=\"r\")\n",
    "line <- readLines(movie_genre_file, 1, encoding=\"latin1\")\n",
    "genre_list <- rep(\"\", vcount(g))\n",
    "while(length(line) != 0) {\n",
    "    line <- strsplit(line,\"\\t\\t\")\n",
    "    genre <- line[[1]][2]\n",
    "    movie.name <- line[[1]][1]\n",
    "    node_id <- V(g)[V(g)$movie_name == movie.name]\n",
    "    genre_list[node_id] <- genre\n",
    "    line <- readLines(movie_genre_file, 1, encoding=\"latin1\")\n",
    "} \n",
    "close(movie_genre_file)"
   ]
  },
  {
   "cell_type": "code",
   "execution_count": null,
   "metadata": {},
   "outputs": [],
   "source": [
    "save(genre_list, file = \"./data/genreList1.RData\")"
   ]
  },
  {
   "cell_type": "code",
   "execution_count": null,
   "metadata": {},
   "outputs": [],
   "source": [
    "# index the nodes\n",
    "V(g)$idx <- 1:vcount(g)\n",
    "\n",
    "V(g)$genre <- genre_list"
   ]
  },
  {
   "cell_type": "code",
   "execution_count": null,
   "metadata": {},
   "outputs": [],
   "source": [
    "write_graph(g, \"./data/movie_genre_graph1.txt\", format = \"edgelist\")"
   ]
  },
  {
   "cell_type": "code",
   "execution_count": null,
   "metadata": {},
   "outputs": [],
   "source": [
    "# remove the movies which have no genres\n",
    "vertices <- V(g)[genre_list != \"\"]\n",
    "g.genre <- induced_subgraph(g, vertices, impl = \"copy_and_delete\")\n",
    "\n",
    "# Fast Greedy community detection\n",
    "g.genre.fgc <- cluster_fast_greedy(g.genre)\n",
    "\n",
    "# generate n random integers\n",
    "n <- 2\n",
    "communities <- sample(1:length(g.genre.fgc), n, replace = FALSE)\n",
    "\n",
    "# compute the frequency of each genre in a community\n",
    "genre_label <- c()\n",
    "number <- c()\n",
    "for (i in communities) {\n",
    "    genre <- V(g.genre)[g.genre.fgc[[i]]]$genre\n",
    "    genre.table <- table(genre)\n",
    "    genre.freq <- prop.table(genre.table)\n",
    "    title = sprintf(\"Genre Distribution in Community %d\", i)\n",
    "    barplot(genre.freq, main = , ylab = \"Frequency\", xlab = \"Genre\")\n",
    "    genre_list <- names(genre.table)\n",
    "    \n",
    "}"
   ]
  },
  {
   "cell_type": "code",
   "execution_count": null,
   "metadata": {},
   "outputs": [],
   "source": []
  }
 ],
 "metadata": {
  "kernelspec": {
   "display_name": "R",
   "language": "R",
   "name": "ir"
  },
  "language_info": {
   "codemirror_mode": "r",
   "file_extension": ".r",
   "mimetype": "text/x-r-source",
   "name": "R",
   "pygments_lexer": "r",
   "version": "3.4.4"
  }
 },
 "nbformat": 4,
 "nbformat_minor": 2
}
