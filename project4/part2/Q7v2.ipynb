{
 "cells": [
  {
   "cell_type": "code",
   "execution_count": 25,
   "metadata": {},
   "outputs": [
    {
     "name": "stderr",
     "output_type": "stream",
     "text": [
      "\n",
      "Attaching package: ‘igraph’\n",
      "\n",
      "The following objects are masked from ‘package:stats’:\n",
      "\n",
      "    decompose, spectrum\n",
      "\n",
      "The following object is masked from ‘package:base’:\n",
      "\n",
      "    union\n",
      "\n"
     ]
    }
   ],
   "source": [
    "library('igraph')\n",
    "g <- read.graph('./data/movie_edge_weight.txt', format='ncol', directed=FALSE)"
   ]
  },
  {
   "cell_type": "code",
   "execution_count": 30,
   "metadata": {},
   "outputs": [],
   "source": [
    "#genreate genre\n",
    "movie_genre_file <- file(\"./data/movieID_genre.txt\", open=\"r\")\n",
    "line <- readLines(movie_genre_file, 1, encoding=\"latin1\")\n",
    "genre_list <- rep(\"\", vcount(g))\n",
    "while(length(line) != 0) {\n",
    "    line <- strsplit(line,\"\\t\\t\")\n",
    "    genre <- line[[1]][3]\n",
    "    movie_id <- line[[1]][2]\n",
    "    node_id <- V(g)[V(g)$name == movie_id]\n",
    "    genre_list[node_id] <- genre\n",
    "    line <- readLines(movie_genre_file, 1, encoding=\"latin1\")\n",
    "} \n",
    "close(movie_genre_file)"
   ]
  },
  {
   "cell_type": "code",
   "execution_count": 31,
   "metadata": {},
   "outputs": [],
   "source": [
    "save(genre_list, file = \"./data/genreList.RData\")"
   ]
  },
  {
   "cell_type": "code",
   "execution_count": 32,
   "metadata": {},
   "outputs": [],
   "source": [
    "# index the nodes\n",
    "V(g)$idx <- 1:vcount(g)\n",
    "\n",
    "V(g)$genre <- genre_list"
   ]
  },
  {
   "cell_type": "code",
   "execution_count": 33,
   "metadata": {},
   "outputs": [],
   "source": [
    "write_graph(g, \"./data/movie_genre_graph.txt\", format = \"edgelist\")"
   ]
  },
  {
   "cell_type": "code",
   "execution_count": null,
   "metadata": {},
   "outputs": [],
   "source": [
    "# remove the movies which have no genres\n",
    "vertices <- V(g)[genre_list != \"\"]\n",
    "g.genre <- induced_subgraph(g, vertices, impl = \"copy_and_delete\")\n",
    "\n",
    "# Fast Greedy community detection\n",
    "g.genre.fgc <- cluster_fast_greedy(g.genre)"
   ]
  },
  {
   "cell_type": "code",
   "execution_count": null,
   "metadata": {},
   "outputs": [],
   "source": [
    "write_graph(g.genre, \"./data/movie_genre_subgraph.txt\", format = \"edgelist\")"
   ]
  },
  {
   "cell_type": "code",
   "execution_count": null,
   "metadata": {},
   "outputs": [],
   "source": [
    "# generate n random integers\n",
    "n <- 10\n",
    "communities <- sample(1:length(g.genre.fgc), n, replace = FALSE)\n",
    "\n",
    "# compute the frequency of each genre in a community\n",
    "for (i in communities) {\n",
    "    genre_list <- V(g.genre)[g.genre.fgc[[i]]]$genre\n",
    "    genre.table <- table(genre_list)\n",
    "    genre.freq <- prop.table(genre.table)\n",
    "    \n",
    "    cat(\"=======Community\", i, \"=======\\n\")\n",
    "    print(genre.table)\n",
    "    print(genre.freq)\n",
    "\n",
    "    title = sprintf(\"Genre Distribution in Community %d\", i)\n",
    "    barplot(genre.freq, main = title, ylab = \"Frequency\", xlab = \"Genre\")\n",
    "#     genre_set <- names(genre.table)\n",
    "#     count <- as.vector(genre.table)\n",
    "#     freq <- as.vector(genre.freq)\n",
    "\n",
    "}"
   ]
  },
  {
   "cell_type": "code",
   "execution_count": null,
   "metadata": {},
   "outputs": [],
   "source": []
  }
 ],
 "metadata": {
  "kernelspec": {
   "display_name": "R",
   "language": "R",
   "name": "ir"
  },
  "language_info": {
   "codemirror_mode": "r",
   "file_extension": ".r",
   "mimetype": "text/x-r-source",
   "name": "R",
   "pygments_lexer": "r",
   "version": "3.4.4"
  }
 },
 "nbformat": 4,
 "nbformat_minor": 2
}
