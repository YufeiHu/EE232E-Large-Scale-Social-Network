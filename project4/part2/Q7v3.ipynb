{
 "cells": [
  {
   "cell_type": "code",
   "execution_count": 1,
   "metadata": {},
   "outputs": [],
   "source": [
    "g.genre <- read_graph(\"movie_genre_graph.txt\", format = \"edgelist\")"
   ]
  },
  {
   "cell_type": "code",
   "execution_count": null,
   "metadata": {},
   "outputs": [],
   "source": [
    "# remove the movies which have no genres\n",
    "load(\"genreList.RData\")\n",
    "vertices <- V(g)[genre_list != \"\"]\n",
    "g.genre <- induced_subgraph(g, vertices, impl = \"copy_and_delete\")"
   ]
  },
  {
   "cell_type": "code",
   "execution_count": null,
   "metadata": {},
   "outputs": [],
   "source": [
    "write_graph(g.genre, \"./data/movie_genre_subgraph.txt\", format = \"edgelist\")"
   ]
  },
  {
   "cell_type": "code",
   "execution_count": null,
   "metadata": {},
   "outputs": [],
   "source": [
    "# Fast Greedy community detection\n",
    "g.genre.fgc <- cluster_fast_greedy(g.genre)"
   ]
  },
  {
   "cell_type": "code",
   "execution_count": null,
   "metadata": {},
   "outputs": [],
   "source": [
    "# genre score\n",
    "genre_score <- function(c, p, q) {\n",
    "    z = c * p / q\n",
    "    log(z, base = exp(1))\n",
    "}"
   ]
  },
  {
   "cell_type": "markdown",
   "metadata": {},
   "source": [
    "## stop here"
   ]
  },
  {
   "cell_type": "code",
   "execution_count": null,
   "metadata": {},
   "outputs": [],
   "source": [
    "# generate n random integers\n",
    "n <- 10\n",
    "communities <- sample(1:length(g.genre.fgc), n, replace = FALSE)\n",
    "\n",
    "# compute the frequency of each genre in a community\n",
    "for (i in communities) {\n",
    "    genre_list <- V(g.genre)[g.genre.fgc[[i]]]$genre\n",
    "    genre.table <- table(genre_list)\n",
    "    genre.freq <- prop.table(genre.table)\n",
    "    \n",
    "    cat(\"=======Community\", i, \"=======\\n\")\n",
    "    print(genre.table)\n",
    "    print(genre.freq)\n",
    "\n",
    "    title = sprintf(\"Genre Distribution in Community %d\", i)\n",
    "    barplot(genre.freq, main = title, ylab = \"Frequency\", xlab = \"Genre\")\n",
    "                        \n",
    "    genre_set <- names(genre.table)\n",
    "    count <- as.vector(genre.table)\n",
    "    freq <- as.vector(genre.freq)\n",
    "\n",
    "}"
   ]
  },
  {
   "cell_type": "code",
   "execution_count": 5,
   "metadata": {},
   "outputs": [],
   "source": [
    "\n",
    "\n"
   ]
  },
  {
   "cell_type": "code",
   "execution_count": null,
   "metadata": {},
   "outputs": [],
   "source": []
  }
 ],
 "metadata": {
  "kernelspec": {
   "display_name": "R",
   "language": "R",
   "name": "ir"
  },
  "language_info": {
   "codemirror_mode": "r",
   "file_extension": ".r",
   "mimetype": "text/x-r-source",
   "name": "R",
   "pygments_lexer": "r",
   "version": "3.4.4"
  }
 },
 "nbformat": 4,
 "nbformat_minor": 2
}
