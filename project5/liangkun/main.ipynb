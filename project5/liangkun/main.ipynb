{
 "cells": [
  {
   "cell_type": "markdown",
   "metadata": {},
   "source": [
    "# Part 2: Let's Help Santa"
   ]
  },
  {
   "cell_type": "code",
   "execution_count": 92,
   "metadata": {},
   "outputs": [],
   "source": [
    "library(\"igraph\")"
   ]
  },
  {
   "cell_type": "markdown",
   "metadata": {},
   "source": [
    "### Question 6:"
   ]
  },
  {
   "cell_type": "code",
   "execution_count": 95,
   "metadata": {},
   "outputs": [
    {
     "name": "stdout",
     "output_type": "stream",
     "text": [
      "It has 1887 nodes and 311812 edges"
     ]
    }
   ],
   "source": [
    "g <- read.graph(\"./data/uber/uberGraph.txt\", format=\"ncol\", directed=FALSE)\n",
    "info <- sprintf(\"It has %d nodes and %d edges\", vcount(g), ecount(g))\n",
    "cat(info)"
   ]
  },
  {
   "cell_type": "code",
   "execution_count": 96,
   "metadata": {},
   "outputs": [],
   "source": [
    "# Add attributes\n",
    "\n",
    "ID_streetName <- rep(\"\", vcount(g))\n",
    "ID_coordinate <- rep(list(c(1, 2)), vcount(g))\n",
    "file_uberGraph_info <- file(\"./data/uber/uberGraph_info.txt\", open=\"r\")\n",
    "line <- readLines(file_uberGraph_info, 1, encoding=\"latin1\")\n",
    "\n",
    "while(length(line) != 0) {\n",
    "    line <- strsplit(line, \"\\t\\t\")\n",
    "    ID <- line[[1]][1]\n",
    "    streetName <- line[[1]][2]\n",
    "    coordinate <- list(c(as.numeric(line[[1]][3]), as.numeric(line[[1]][4])))\n",
    "\n",
    "    node_id <- V(g)[V(g)$name == ID]\n",
    "    ID_streetName[node_id] <- streetName\n",
    "    ID_coordinate[node_id] <- coordinate\n",
    "    \n",
    "    line <- readLines(file_uberGraph_info, 1, encoding=\"latin1\")\n",
    "} \n",
    "\n",
    "close(file_uberGraph_info)\n",
    "V(g)$displayName <- ID_streetName\n",
    "V(g)$location <- ID_coordinate"
   ]
  },
  {
   "cell_type": "code",
   "execution_count": 97,
   "metadata": {},
   "outputs": [
    {
     "name": "stdout",
     "output_type": "stream",
     "text": [
      "It has 1880 nodes and 311802 edges"
     ]
    }
   ],
   "source": [
    "g.components <- clusters(g)\n",
    "giant.idx <- which.max(g.components$csize)\n",
    "g <- induced.subgraph(g, which(g.components$membership == giant.idx))\n",
    "\n",
    "info <- sprintf(\"It has %d nodes and %d edges\", vcount(g), ecount(g))\n",
    "cat(info)"
   ]
  },
  {
   "cell_type": "markdown",
   "metadata": {
    "collapsed": true
   },
   "source": [
    "### Question 7:"
   ]
  },
  {
   "cell_type": "code",
   "execution_count": 5,
   "metadata": {},
   "outputs": [],
   "source": [
    "MST <- mst(g)"
   ]
  },
  {
   "cell_type": "markdown",
   "metadata": {
    "collapsed": true
   },
   "source": [
    "### Question 11-14:"
   ]
  },
  {
   "cell_type": "code",
   "execution_count": 35,
   "metadata": {},
   "outputs": [],
   "source": [
    "# print(V(g)[1]$name)\n",
    "# print(\"11\")\n",
    "# print(V(g)$location[[1]][1])\n",
    "# print(V(g)$location[[1]][2])\n",
    "# print(\"22\")\n",
    "# print(V(g)$displayName[1])\n",
    "\n",
    "graphFile<-file(\"./data/uber/origin_graph.txt\",\"w\")\n",
    "\n",
    "for (i in 1:1880)\n",
    "{\n",
    "    cat(V(g)$name[i], file=graphFile)\n",
    "    cat(\"\\t\\t\", file=graphFile)\n",
    "    cat(V(g)$location[[i]][1],file=graphFile)\n",
    "    cat(\"\\t\\t\",file=graphFile)\n",
    "    cat(V(g)$location[[i]][2],file=graphFile)\n",
    "    cat(\"\\n\",file=graphFile)\n",
    "    #info <- c(V(g)$name[i],  V(g)$location[[i]][1],  V(g)$location[[i]][2])\n",
    "}\n",
    "close(graphFile)"
   ]
  },
  {
   "cell_type": "code",
   "execution_count": 152,
   "metadata": {},
   "outputs": [
    {
     "name": "stdout",
     "output_type": "stream",
     "text": [
      "It has 1880 nodes and 311802 edges"
     ]
    }
   ],
   "source": [
    "Dg <- read.graph(\"./data/uber/Delaunay.txt\", format=\"ncol\", directed=FALSE)\n",
    "info <- sprintf(\"It has %d nodes and %d edges\", vcount(g), ecount(g))\n",
    "cat(info)"
   ]
  },
  {
   "cell_type": "code",
   "execution_count": 139,
   "metadata": {},
   "outputs": [],
   "source": [
    "flowrate <- function(shortest, traveltime) {\n",
    "    car.speed <- shortest / traveltime\n",
    "    fr <- 3600 / (0.003/car.speed + 2)\n",
    "    fr\n",
    "}"
   ]
  },
  {
   "cell_type": "code",
   "execution_count": 142,
   "metadata": {},
   "outputs": [
    {
     "name": "stdout",
     "output_type": "stream",
     "text": [
      "[1] 1793.193\n"
     ]
    }
   ],
   "source": [
    "for (e in E(Dg))\n",
    "{\n",
    "#     print(e)\n",
    "    verts = ends(g,e)\n",
    "    node1 = which(V(g)$name == verts[1])\n",
    "    node2 = which(V(g)$name == verts[2])\n",
    "\n",
    "    edge <- get.edge.ids(g, c(node1,node2))\n",
    "    w<- -1\n",
    "    if(edge != 0)\n",
    "    {\n",
    "        w<-E(g)[edge]$weight\n",
    "        x1 = V(g)[node1]$location[[1]][1]\n",
    "        y1 = V(g)[node1]$location[[1]][2]\n",
    "        x2 = V(g)[node2]$location[[1]][1]\n",
    "        y2 = V(g)[node2]$location[[1]][2]\n",
    "        dist = sqrt((x2-x1)*(x2-x1)+(y2-y1)*(y2-y1))*69\n",
    "        time = w\n",
    "    }\n",
    "    else\n",
    "    {\n",
    "        w<-shortest_paths(g, from = node1, to = node2, mode = \"all\",output = \"both\",)\n",
    "        dist<-0\n",
    "        time<-0\n",
    "        for(pair in w$vpath)\n",
    "        {\n",
    "            x1 = V(g)[pair[1]]$location[[1]][1]\n",
    "            y1 = V(g)[pair[1]]$location[[1]][2]\n",
    "            x2 = V(g)[pair[2]]$location[[1]][1]\n",
    "            y2 = V(g)[pair[2]]$location[[1]][2]\n",
    "            dist = dist + sqrt((x2-x1)*(x2-x1)+(y2-y1)*(y2-y1))*69\n",
    "        }\n",
    "        for(edge in w$epath)\n",
    "        {\n",
    "            time=time+E(g)[edge]$weight\n",
    "        }\n",
    "    }\n",
    "    E(Dg)[e]$carFlow = flowrate(dist, time)\n",
    "}"
   ]
  },
  {
   "cell_type": "code",
   "execution_count": 157,
   "metadata": {},
   "outputs": [
    {
     "name": "stdout",
     "output_type": "stream",
     "text": [
      "[1] 394\n",
      "[1] 10\n"
     ]
    }
   ],
   "source": [
    "node1 = which(V(g)$displayName == \"100 Campus Drive, Stanford\")\n",
    "node2 = which(V(g)$displayName == \"700 Meder Street, Santa Cruz\")\n",
    "n1 = which(V(Dg)$name == V(g)[node1]$name)\n",
    "n2 = which(V(Dg)$name == V(g)[node2]$name)\n",
    "print(edge_connectivity(Dg, source = n1, target = n2))"
   ]
  },
  {
   "cell_type": "code",
   "execution_count": 155,
   "metadata": {},
   "outputs": [
    {
     "name": "stdout",
     "output_type": "stream",
     "text": [
      "[1] 0\n"
     ]
    }
   ],
   "source": [
    "w<-shortest_paths(Dg, from = n1, to = n2, mode = \"all\",output = \"both\",)\n",
    "flow<-0\n",
    "for(edge in w$epath)\n",
    "{\n",
    "    flow=flow+E(Dg)[edge]$carFlow\n",
    "}\n",
    "\n"
   ]
  },
  {
   "cell_type": "code",
   "execution_count": null,
   "metadata": {},
   "outputs": [],
   "source": []
  }
 ],
 "metadata": {
  "kernelspec": {
   "display_name": "R",
   "language": "R",
   "name": "ir"
  },
  "language_info": {
   "codemirror_mode": "r",
   "file_extension": ".r",
   "mimetype": "text/x-r-source",
   "name": "R",
   "pygments_lexer": "r",
   "version": "3.4.4"
  }
 },
 "nbformat": 4,
 "nbformat_minor": 2
}
