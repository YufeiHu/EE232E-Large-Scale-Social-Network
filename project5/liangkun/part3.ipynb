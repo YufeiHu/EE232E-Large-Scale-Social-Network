{
 "cells": [
  {
   "cell_type": "markdown",
   "metadata": {},
   "source": [
    "# Part 2: Let's Help Santa"
   ]
  },
  {
   "cell_type": "code",
   "execution_count": 1,
   "metadata": {},
   "outputs": [
    {
     "name": "stderr",
     "output_type": "stream",
     "text": [
      "\n",
      "Attaching package: ‘igraph’\n",
      "\n",
      "The following objects are masked from ‘package:stats’:\n",
      "\n",
      "    decompose, spectrum\n",
      "\n",
      "The following object is masked from ‘package:base’:\n",
      "\n",
      "    union\n",
      "\n"
     ]
    }
   ],
   "source": [
    "library(\"igraph\")"
   ]
  },
  {
   "cell_type": "markdown",
   "metadata": {},
   "source": [
    "### Question 6:"
   ]
  },
  {
   "cell_type": "code",
   "execution_count": 44,
   "metadata": {},
   "outputs": [
    {
     "name": "stdout",
     "output_type": "stream",
     "text": [
      "It has 1887 nodes and 311812 edges"
     ]
    }
   ],
   "source": [
    "g <- read.graph(\"./data/uber/uberGraph.txt\", format=\"ncol\", directed=FALSE)\n",
    "info <- sprintf(\"It has %d nodes and %d edges\", vcount(g), ecount(g))\n",
    "cat(info)"
   ]
  },
  {
   "cell_type": "code",
   "execution_count": 3,
   "metadata": {},
   "outputs": [],
   "source": [
    "# Add attributes\n",
    "\n",
    "ID_streetName <- rep(\"\", vcount(g))\n",
    "ID_coordinate <- rep(list(c(1, 2)), vcount(g))\n",
    "file_uberGraph_info <- file(\"./data/uber/uberGraph_info.txt\", open=\"r\")\n",
    "line <- readLines(file_uberGraph_info, 1, encoding=\"latin1\")\n",
    "\n",
    "while(length(line) != 0) {\n",
    "    line <- strsplit(line, \"\\t\\t\")\n",
    "    ID <- line[[1]][1]\n",
    "    streetName <- line[[1]][2]\n",
    "    coordinate <- list(c(as.numeric(line[[1]][3]), as.numeric(line[[1]][4])))\n",
    "\n",
    "    node_id <- V(g)[V(g)$name == ID]\n",
    "    ID_streetName[node_id] <- streetName\n",
    "    ID_coordinate[node_id] <- coordinate\n",
    "    \n",
    "    line <- readLines(file_uberGraph_info, 1, encoding=\"latin1\")\n",
    "} \n",
    "\n",
    "close(file_uberGraph_info)\n",
    "V(g)$displayName <- ID_streetName\n",
    "V(g)$location <- ID_coordinate"
   ]
  },
  {
   "cell_type": "code",
   "execution_count": 4,
   "metadata": {},
   "outputs": [
    {
     "name": "stdout",
     "output_type": "stream",
     "text": [
      "It has 1880 nodes and 311802 edges"
     ]
    }
   ],
   "source": [
    "g.components <- clusters(g)\n",
    "giant.idx <- which.max(g.components$csize)\n",
    "g <- induced.subgraph(g, which(g.components$membership == giant.idx))\n",
    "\n",
    "info <- sprintf(\"It has %d nodes and %d edges\", vcount(g), ecount(g))\n",
    "cat(info)"
   ]
  },
  {
   "cell_type": "markdown",
   "metadata": {
    "collapsed": true
   },
   "source": [
    "### Question 7:"
   ]
  },
  {
   "cell_type": "code",
   "execution_count": 5,
   "metadata": {},
   "outputs": [],
   "source": [
    "MST <- mst(g)"
   ]
  },
  {
   "cell_type": "markdown",
   "metadata": {
    "collapsed": true
   },
   "source": [
    "### Question 11:"
   ]
  },
  {
   "cell_type": "code",
   "execution_count": 35,
   "metadata": {},
   "outputs": [],
   "source": [
    "# print(V(g)[1]$name)\n",
    "# print(\"11\")\n",
    "# print(V(g)$location[[1]][1])\n",
    "# print(V(g)$location[[1]][2])\n",
    "# print(\"22\")\n",
    "# print(V(g)$displayName[1])\n",
    "\n",
    "graphFile<-file(\"./data/uber/origin_graph.txt\",\"w\")\n",
    "\n",
    "for (i in 1:1880)\n",
    "{\n",
    "    cat(V(g)$name[i], file=graphFile)\n",
    "    cat(\"\\t\\t\", file=graphFile)\n",
    "    cat(V(g)$location[[i]][1],file=graphFile)\n",
    "    cat(\"\\t\\t\",file=graphFile)\n",
    "    cat(V(g)$location[[i]][2],file=graphFile)\n",
    "    cat(\"\\n\",file=graphFile)\n",
    "    #info <- c(V(g)$name[i],  V(g)$location[[i]][1],  V(g)$location[[i]][2])\n",
    "}\n",
    "close(graphFile)"
   ]
  },
  {
   "cell_type": "code",
   "execution_count": 43,
   "metadata": {},
   "outputs": [
    {
     "name": "stdout",
     "output_type": "stream",
     "text": [
      "[1] 2073\n",
      "[1] 806\n",
      "[1] 1177\n"
     ]
    },
    {
     "ename": "ERROR",
     "evalue": "Error in add_edges(Dg, c(node1, node2, node2, node3, node3, node1)): At type_indexededgelist.c:272 : cannot add edges, Invalid vertex id\n",
     "output_type": "error",
     "traceback": [
      "Error in add_edges(Dg, c(node1, node2, node2, node3, node3, node1)): At type_indexededgelist.c:272 : cannot add edges, Invalid vertex id\nTraceback:\n",
      "1. add_edges(Dg, c(node1, node2, node2, node3, node3, node1))"
     ]
    }
   ],
   "source": [
    "Dg <- make_empty_graph(n = 1880, directed = FALSE)\n",
    "\n",
    "Delaunay <- file(\"./data/uber/Delaunay.txt\", open=\"r\")\n",
    "line <- readLines(Delaunay, 1, encoding=\"latin1\")\n",
    "\n",
    "while(length(line) != 0) {\n",
    "    line <- strsplit(line, \"\\t\\t\")\n",
    "    node1<- as.numeric(line[[1]][1])\n",
    "    print(node1)\n",
    "    node2<- as.numeric(line[[1]][2])\n",
    "    print(node2)\n",
    "    node3<- as.numeric(line[[1]][3])\n",
    "    print(node3)\n",
    "    add_edges(Dg, c(node1,node2, node2,node3, node3,node1))\n",
    "    line <- readLines(Delaunay, 1, encoding=\"latin1\")\n",
    "} "
   ]
  },
  {
   "cell_type": "code",
   "execution_count": null,
   "metadata": {},
   "outputs": [],
   "source": []
  }
 ],
 "metadata": {
  "kernelspec": {
   "display_name": "R",
   "language": "R",
   "name": "ir"
  },
  "language_info": {
   "codemirror_mode": "r",
   "file_extension": ".r",
   "mimetype": "text/x-r-source",
   "name": "R",
   "pygments_lexer": "r",
   "version": "3.4.4"
  }
 },
 "nbformat": 4,
 "nbformat_minor": 2
}
