{
 "cells": [
  {
   "cell_type": "markdown",
   "metadata": {},
   "source": [
    "# Part 1: Actor/Actress network"
   ]
  },
  {
   "cell_type": "code",
   "execution_count": 2,
   "metadata": {},
   "outputs": [],
   "source": [
    "library(\"igraph\")"
   ]
  },
  {
   "cell_type": "markdown",
   "metadata": {},
   "source": [
    "### Question 6:"
   ]
  },
  {
   "cell_type": "code",
   "execution_count": 7,
   "metadata": {},
   "outputs": [
    {
     "name": "stdout",
     "output_type": "stream",
     "text": [
      "It has 1887 nodes and 311812 edges"
     ]
    }
   ],
   "source": [
    "g <- read.graph(\"./data/uber/uberGraph.txt\", format=\"ncol\", directed=FALSE)\n",
    "info <- sprintf(\"It has %d nodes and %d edges\", vcount(g), ecount(g))\n",
    "cat(info)"
   ]
  },
  {
   "cell_type": "code",
   "execution_count": 8,
   "metadata": {
    "collapsed": true
   },
   "outputs": [],
   "source": [
    "# Add attributes\n",
    "\n",
    "ID_streetName <- rep(\"\", vcount(g))\n",
    "ID_coordinate <- rep(list(c(1, 2)), vcount(g))\n",
    "file_uberGraph_info <- file(\"./data/uber/uberGraph_info.txt\", open=\"r\")\n",
    "line <- readLines(file_uberGraph_info, 1, encoding=\"latin1\")\n",
    "\n",
    "while(length(line) != 0) {\n",
    "    line <- strsplit(line, \"\\t\\t\")\n",
    "    ID <- line[[1]][1]\n",
    "    streetName <- line[[1]][2]\n",
    "    coordinate <- list(c(as.numeric(line[[1]][3]), as.numeric(line[[1]][4])))\n",
    "\n",
    "    node_id <- V(g)[V(g)$name == ID]\n",
    "    ID_streetName[node_id] <- streetName\n",
    "    ID_coordinate[node_id] <- coordinate\n",
    "    \n",
    "    line <- readLines(file_uberGraph_info, 1, encoding=\"latin1\")\n",
    "} \n",
    "\n",
    "close(file_uberGraph_info)\n",
    "V(g)$displayName <- ID_streetName\n",
    "V(g)$location <- ID_coordinate"
   ]
  },
  {
   "cell_type": "code",
   "execution_count": 9,
   "metadata": {},
   "outputs": [
    {
     "name": "stdout",
     "output_type": "stream",
     "text": [
      "It has 1880 nodes and 311802 edges"
     ]
    }
   ],
   "source": [
    "g.components <- clusters(g)\n",
    "giant.idx <- which.max(g.components$csize)\n",
    "g <- induced.subgraph(g, which(g.components$membership == giant.idx))\n",
    "\n",
    "info <- sprintf(\"It has %d nodes and %d edges\", vcount(g), ecount(g))\n",
    "cat(info)"
   ]
  },
  {
   "cell_type": "markdown",
   "metadata": {},
   "source": [
    "### Question 5:"
   ]
  },
  {
   "cell_type": "code",
   "execution_count": 44,
   "metadata": {},
   "outputs": [
    {
     "name": "stdout",
     "output_type": "stream",
     "text": [
      "Depp, Johnny (ID: 55412) has a pagerank score of 0.000054, in-degree of 2144, and 98 movies\n",
      "Hanks, Tom (ID: 65792) has a pagerank score of 0.000051, in-degree of 2064, and 79 movies\n",
      "Pitt, Brad (ID: 91782) has a pagerank score of 0.000043, in-degree of 1739, and 71 movies\n",
      "Johnson, Dwayne (I) (ID: 70923) has a pagerank score of 0.000042, in-degree of 1357, and 78 movies\n",
      "Clooney, George (ID: 51346) has a pagerank score of 0.000040, in-degree of 1573, and 67 movies\n",
      "Cruise, Tom (ID: 53037) has a pagerank score of 0.000040, in-degree of 1651, and 63 movies\n",
      "Streep, Meryl (ID: 33234) has a pagerank score of 0.000040, in-degree of 1594, and 97 movies\n",
      "Smith, Will (I) (ID: 101308) has a pagerank score of 0.000032, in-degree of 1319, and 49 movies\n",
      "DiCaprio, Leonardo (ID: 55819) has a pagerank score of 0.000032, in-degree of 1301, and 49 movies\n",
      "Watson, Emma (II) (ID: 36700) has a pagerank score of 0.000017, in-degree of 453, and 25 movies\n"
     ]
    }
   ],
   "source": [
    "actorID_target <- c(53037, 36700, 51346, 65792, 70923, 55412, 101308, 33234, 55819, 91782)\n",
    "pagerank_score_target <- c()\n",
    "\n",
    "for(i in 1:length(high_score)){\n",
    "    id_cur <- as.numeric(names(high_score[i]))\n",
    "    if(!is.na(match(id_cur, actorID_target))){\n",
    "        high_id <- actor_id[id_cur + 1]\n",
    "        line <- strsplit(high_id, \"\\t\\t\")\n",
    "        \n",
    "        line_movie <- actor_movies_merged[as.numeric(line[[1]][2]) + 1]\n",
    "        line_movie <- strsplit(line_movie, \"\\t\\t\")\n",
    "        num_movie <- length(line_movie[[1]]) - 1\n",
    "\n",
    "        deg_in <- degree(g, line[[1]][2], mode=c(\"in\"))\n",
    "\n",
    "        info <- sprintf(\"%s (ID: %s) has a pagerank score of %f, in-degree of %d, and %d movies\\n\", line[[1]][1], line[[1]][2], high_score[i], deg_in, num_movie)\n",
    "        cat(info)\n",
    "    }\n",
    "}"
   ]
  },
  {
   "cell_type": "code",
   "execution_count": null,
   "metadata": {
    "collapsed": true
   },
   "outputs": [],
   "source": []
  }
 ],
 "metadata": {
  "kernelspec": {
   "display_name": "R",
   "language": "R",
   "name": "ir"
  },
  "language_info": {
   "codemirror_mode": "r",
   "file_extension": ".r",
   "mimetype": "text/x-r-source",
   "name": "R",
   "pygments_lexer": "r",
   "version": "3.4.2"
  }
 },
 "nbformat": 4,
 "nbformat_minor": 2
}
