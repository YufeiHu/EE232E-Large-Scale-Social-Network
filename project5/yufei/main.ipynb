{
 "cells": [
  {
   "cell_type": "markdown",
   "metadata": {},
   "source": [
    "# Part 2: Let's Help Santa"
   ]
  },
  {
   "cell_type": "code",
   "execution_count": 2,
   "metadata": {},
   "outputs": [],
   "source": [
    "library(\"igraph\")"
   ]
  },
  {
   "cell_type": "markdown",
   "metadata": {},
   "source": [
    "### Question 6:"
   ]
  },
  {
   "cell_type": "code",
   "execution_count": 7,
   "metadata": {},
   "outputs": [
    {
     "name": "stdout",
     "output_type": "stream",
     "text": [
      "It has 1887 nodes and 311812 edges"
     ]
    }
   ],
   "source": [
    "g <- read.graph(\"./data/uber/uberGraph.txt\", format=\"ncol\", directed=FALSE)\n",
    "info <- sprintf(\"It has %d nodes and %d edges\", vcount(g), ecount(g))\n",
    "cat(info)"
   ]
  },
  {
   "cell_type": "code",
   "execution_count": 8,
   "metadata": {
    "collapsed": true
   },
   "outputs": [],
   "source": [
    "# Add attributes\n",
    "\n",
    "ID_streetName <- rep(\"\", vcount(g))\n",
    "ID_coordinate <- rep(list(c(1, 2)), vcount(g))\n",
    "file_uberGraph_info <- file(\"./data/uber/uberGraph_info.txt\", open=\"r\")\n",
    "line <- readLines(file_uberGraph_info, 1, encoding=\"latin1\")\n",
    "\n",
    "while(length(line) != 0) {\n",
    "    line <- strsplit(line, \"\\t\\t\")\n",
    "    ID <- line[[1]][1]\n",
    "    streetName <- line[[1]][2]\n",
    "    coordinate <- list(c(as.numeric(line[[1]][3]), as.numeric(line[[1]][4])))\n",
    "\n",
    "    node_id <- V(g)[V(g)$name == ID]\n",
    "    ID_streetName[node_id] <- streetName\n",
    "    ID_coordinate[node_id] <- coordinate\n",
    "    \n",
    "    line <- readLines(file_uberGraph_info, 1, encoding=\"latin1\")\n",
    "} \n",
    "\n",
    "close(file_uberGraph_info)\n",
    "V(g)$displayName <- ID_streetName\n",
    "V(g)$location <- ID_coordinate"
   ]
  },
  {
   "cell_type": "code",
   "execution_count": 9,
   "metadata": {},
   "outputs": [
    {
     "name": "stdout",
     "output_type": "stream",
     "text": [
      "It has 1880 nodes and 311802 edges"
     ]
    }
   ],
   "source": [
    "g.components <- clusters(g)\n",
    "giant.idx <- which.max(g.components$csize)\n",
    "g <- induced.subgraph(g, which(g.components$membership == giant.idx))\n",
    "\n",
    "info <- sprintf(\"It has %d nodes and %d edges\", vcount(g), ecount(g))\n",
    "cat(info)"
   ]
  },
  {
   "cell_type": "markdown",
   "metadata": {
    "collapsed": true
   },
   "source": [
    "### Question 7:"
   ]
  },
  {
   "cell_type": "code",
   "execution_count": 10,
   "metadata": {
    "collapsed": true
   },
   "outputs": [],
   "source": [
    "MST <- mst(g)"
   ]
  },
  {
   "cell_type": "code",
   "execution_count": null,
   "metadata": {
    "collapsed": true
   },
   "outputs": [],
   "source": []
  }
 ],
 "metadata": {
  "kernelspec": {
   "display_name": "R",
   "language": "R",
   "name": "ir"
  },
  "language_info": {
   "codemirror_mode": "r",
   "file_extension": ".r",
   "mimetype": "text/x-r-source",
   "name": "R",
   "pygments_lexer": "r",
   "version": "3.4.2"
  }
 },
 "nbformat": 4,
 "nbformat_minor": 2
}
